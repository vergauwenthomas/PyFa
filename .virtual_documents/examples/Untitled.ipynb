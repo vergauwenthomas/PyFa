import pyfa_tool as pyfa
print(pyfa.__version__)





fa_filepath = pyfa.demo_fa



