import pyfa_tool as pyfa
print(pyfa.__version__)








fa_filepath = pyfa.demo_fa
print(fa_filepath)

#Now we create a FaFile object
fafile = pyfa.FaFile(fafile=fa_filepath)
print(fafile)





fieldnames_dataframe = fafile.get_fieldnames()
print(fieldnames_dataframe.head()) #Print only the first lines

metadata = fafile.get_metadata()
print(metadata) #The metadata is stored in a dictionary





fafile.describe()








# Import the CLS zonal 2D field as a dataset
cls_wind_data = pyfa.FaDataset(fafile=pyfa.demo_fa)
cls_wind_data.import_2d_field(fieldname='CLSVENT.ZONAL')
print(cls_wind_data) 






#if you want to work directly with the xarray dataset you can do this by working with the .ds attribute:
cls_wind_data.ds['CLSVENT.ZONAL'].data.max()



# Import the WIND.V.PHYS 3D field as a dataset
d3wind_data = pyfa.FaDataset(fafile=pyfa.demo_fa)
d3wind_data.import_3d_field(fieldname='WIND.V.PHYS')
print(d3wind_data) 


#basic windprofile at a random location
d3wind_data.ds['WIND.V.PHYS'].sel(x=-150000, y=7923687.901).plot()


# Import multiple fields

full_data = pyfa.FaDataset(fafile=pyfa.demo_fa)

# To import all fields: 
#(Whitelist specifies all the fields (2d and 3d) to read, blacklist are all the fields to skip)

#This can take a couple of seconds.
full_data.import_fa(whitelist=None, #If none, all fields are interpreted as white 
                    blacklist=None, #If none, blacklist is empty
                   )
print(full_data.get_fieldnames())


# If you are only interested in a certain set of field, you can set the white and blacklist accordingly:
full_data.import_fa(whitelist=["PROFTEMPERATURE", "SURFALBEDO.VEG", "TEMPERATURE"], 
                    blacklist=None, #If none, blacklist is empty
                   )

print(full_data)








print(f' fieldnames: {full_data.get_fieldnames()}')
print(f' basedate: {full_data.get_basedate()}')
print(f' leadtime: {full_data.get_leadtime()}')





#make a plot at the model CRS (without reprojectiong)
full_data.plot(variable='TEMPERATURE', level=21)


#First we reproject to latlon using the epsg code
full_data.reproject(target_epsg='EPSG:4326')

# Then we plot a field
full_data.plot(variable='PROFTEMPERATURE',
               level=None, #only required for 3d fields
               title=None, # 
               grid=False,
               land=None, #if in latlon, then this will we set to True by default and the boarders are drawn
               coastline=None, #equivalent to land
               contour=False, #Set to true if you want a contour plot
               contour_levels=10, #only used if contour
               # **kwargs,
               cmap = 'viridis', #kwargs passed to xarray.plot()
              )






import os
outputfolder = os.getcwd() #specify an output folder

full_data.save_nc(outputfolder = outputfolder,
                  filename='some_fields_of_the_demo_fa_file.nc',
                  overwrite=True)





path_to_nc = os.path.join(outputfolder,'some_fields_of_the_demo_fa_file.nc')
new_dataset = pyfa.FaDataset()
new_dataset.read_nc(path_to_nc)
